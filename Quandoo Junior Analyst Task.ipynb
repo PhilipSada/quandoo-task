{
 "cells": [
  {
   "cell_type": "code",
   "execution_count": 1,
   "id": "83359d8d",
   "metadata": {},
   "outputs": [
    {
     "name": "stdout",
     "output_type": "stream",
     "text": [
      "Requirement already satisfied: pandas in c:\\users\\win10\\anaconda3\\lib\\site-packages (1.2.4)\n",
      "Requirement already satisfied: pandasql in c:\\users\\win10\\anaconda3\\lib\\site-packages (0.7.3)\n",
      "Requirement already satisfied: numpy>=1.16.5 in c:\\users\\win10\\anaconda3\\lib\\site-packages (from pandas) (1.20.1)\n",
      "Requirement already satisfied: python-dateutil>=2.7.3 in c:\\users\\win10\\anaconda3\\lib\\site-packages (from pandas) (2.8.1)\n",
      "Requirement already satisfied: pytz>=2017.3 in c:\\users\\win10\\anaconda3\\lib\\site-packages (from pandas) (2021.1)\n",
      "Requirement already satisfied: six>=1.5 in c:\\users\\win10\\anaconda3\\lib\\site-packages (from python-dateutil>=2.7.3->pandas) (1.15.0)\n",
      "Requirement already satisfied: sqlalchemy in c:\\users\\win10\\anaconda3\\lib\\site-packages (from pandasql) (1.4.7)\n",
      "Requirement already satisfied: greenlet!=0.4.17 in c:\\users\\win10\\anaconda3\\lib\\site-packages (from sqlalchemy->pandasql) (1.0.0)\n"
     ]
    }
   ],
   "source": [
    "#install the pandas library\n",
    "\n",
    "!pip install pandas pandasql\n"
   ]
  },
  {
   "cell_type": "code",
   "execution_count": 2,
   "id": "0cf68a0a",
   "metadata": {},
   "outputs": [],
   "source": [
    "import pandas as pd\n",
    "import pandasql as ps"
   ]
  },
  {
   "cell_type": "code",
   "execution_count": 3,
   "id": "85538d29",
   "metadata": {},
   "outputs": [
    {
     "data": {
      "text/html": [
       "<div>\n",
       "<style scoped>\n",
       "    .dataframe tbody tr th:only-of-type {\n",
       "        vertical-align: middle;\n",
       "    }\n",
       "\n",
       "    .dataframe tbody tr th {\n",
       "        vertical-align: top;\n",
       "    }\n",
       "\n",
       "    .dataframe thead th {\n",
       "        text-align: right;\n",
       "    }\n",
       "</style>\n",
       "<table border=\"1\" class=\"dataframe\">\n",
       "  <thead>\n",
       "    <tr style=\"text-align: right;\">\n",
       "      <th></th>\n",
       "      <th>reservation_id</th>\n",
       "      <th>reservation_created_date</th>\n",
       "      <th>reservation_completed_date</th>\n",
       "      <th>reservation_status</th>\n",
       "      <th>customer_id</th>\n",
       "      <th>merchant_id</th>\n",
       "      <th>revenue</th>\n",
       "      <th>marketing_channel</th>\n",
       "      <th>country</th>\n",
       "    </tr>\n",
       "  </thead>\n",
       "  <tbody>\n",
       "    <tr>\n",
       "      <th>0</th>\n",
       "      <td>b4ea-a5cb0-10e4-90a4</td>\n",
       "      <td>2023-06-22 10:08:19 UTC</td>\n",
       "      <td>2023-06-24 06:45:00 UTC</td>\n",
       "      <td>successful</td>\n",
       "      <td>2cbc-c40df-c6f4-b9d6</td>\n",
       "      <td>511d-d4351-7704-a5b1</td>\n",
       "      <td>4.219409</td>\n",
       "      <td>Affiliate</td>\n",
       "      <td>NZ</td>\n",
       "    </tr>\n",
       "    <tr>\n",
       "      <th>1</th>\n",
       "      <td>14d4-4e910-1144-a32a</td>\n",
       "      <td>2023-06-22 21:31:03 UTC</td>\n",
       "      <td>2023-06-23 09:30:00 UTC</td>\n",
       "      <td>successful</td>\n",
       "      <td>1775-52029-4195-b8ae</td>\n",
       "      <td>f4a5-5c44c-611b-8d48</td>\n",
       "      <td>11.251758</td>\n",
       "      <td>Direct</td>\n",
       "      <td>NZ</td>\n",
       "    </tr>\n",
       "    <tr>\n",
       "      <th>2</th>\n",
       "      <td>c837-79fa0-10ce-a727</td>\n",
       "      <td>2023-06-22 07:31:18 UTC</td>\n",
       "      <td>2023-06-24 05:45:00 UTC</td>\n",
       "      <td>canceled</td>\n",
       "      <td>8968-850e2-844f-811b</td>\n",
       "      <td>f4a5-5c44c-611b-8d48</td>\n",
       "      <td>5.625879</td>\n",
       "      <td>Referral</td>\n",
       "      <td>NZ</td>\n",
       "    </tr>\n",
       "    <tr>\n",
       "      <th>3</th>\n",
       "      <td>b362-28100-10e0-a21c</td>\n",
       "      <td>2023-06-22 09:39:37 UTC</td>\n",
       "      <td>2023-06-24 07:00:00 UTC</td>\n",
       "      <td>successful</td>\n",
       "      <td>1b97-7d46a-bef4-a20e</td>\n",
       "      <td>f4a5-5c44c-611b-8d48</td>\n",
       "      <td>4.219409</td>\n",
       "      <td>Other</td>\n",
       "      <td>NZ</td>\n",
       "    </tr>\n",
       "    <tr>\n",
       "      <th>4</th>\n",
       "      <td>d61c-ca6e0-114d-aa03</td>\n",
       "      <td>2023-06-22 22:40:52 UTC</td>\n",
       "      <td>2023-06-23 00:30:00 UTC</td>\n",
       "      <td>successful</td>\n",
       "      <td>9be2-22a6a-dcd5-aa37</td>\n",
       "      <td>4bea-ab9e0-ad2d-8075</td>\n",
       "      <td>7.876231</td>\n",
       "      <td>Other</td>\n",
       "      <td>NZ</td>\n",
       "    </tr>\n",
       "  </tbody>\n",
       "</table>\n",
       "</div>"
      ],
      "text/plain": [
       "         reservation_id reservation_created_date reservation_completed_date  \\\n",
       "0  b4ea-a5cb0-10e4-90a4  2023-06-22 10:08:19 UTC    2023-06-24 06:45:00 UTC   \n",
       "1  14d4-4e910-1144-a32a  2023-06-22 21:31:03 UTC    2023-06-23 09:30:00 UTC   \n",
       "2  c837-79fa0-10ce-a727  2023-06-22 07:31:18 UTC    2023-06-24 05:45:00 UTC   \n",
       "3  b362-28100-10e0-a21c  2023-06-22 09:39:37 UTC    2023-06-24 07:00:00 UTC   \n",
       "4  d61c-ca6e0-114d-aa03  2023-06-22 22:40:52 UTC    2023-06-23 00:30:00 UTC   \n",
       "\n",
       "  reservation_status           customer_id           merchant_id    revenue  \\\n",
       "0         successful  2cbc-c40df-c6f4-b9d6  511d-d4351-7704-a5b1   4.219409   \n",
       "1         successful  1775-52029-4195-b8ae  f4a5-5c44c-611b-8d48  11.251758   \n",
       "2           canceled  8968-850e2-844f-811b  f4a5-5c44c-611b-8d48   5.625879   \n",
       "3         successful  1b97-7d46a-bef4-a20e  f4a5-5c44c-611b-8d48   4.219409   \n",
       "4         successful  9be2-22a6a-dcd5-aa37  4bea-ab9e0-ad2d-8075   7.876231   \n",
       "\n",
       "  marketing_channel country  \n",
       "0         Affiliate      NZ  \n",
       "1            Direct      NZ  \n",
       "2          Referral      NZ  \n",
       "3             Other      NZ  \n",
       "4             Other      NZ  "
      ]
     },
     "execution_count": 3,
     "metadata": {},
     "output_type": "execute_result"
    }
   ],
   "source": [
    "# read in the csv file as a pandas dataframe\n",
    "reservations = pd.read_csv(\"reservations.csv\")\n",
    "merchants = pd.read_csv(\"merchants.csv\")\n",
    "\n",
    "reservations.head()"
   ]
  },
  {
   "cell_type": "markdown",
   "id": "e48de6f8",
   "metadata": {},
   "source": [
    "#### Exploratory Data Analysis"
   ]
  },
  {
   "cell_type": "code",
   "execution_count": 4,
   "id": "a471249d",
   "metadata": {},
   "outputs": [
    {
     "name": "stdout",
     "output_type": "stream",
     "text": [
      "           city  num_countries\n",
      "0  Christchurch              2\n",
      "1     Newcastle              2\n",
      "2         Perth              2\n"
     ]
    }
   ],
   "source": [
    "# Checks if a city name exists in more than one country\n",
    "query = \"\"\"\n",
    "   SELECT m.city, COUNT(DISTINCT r.country) AS num_countries\n",
    "   FROM reservations r\n",
    "   JOIN merchants m ON r.merchant_id = m.merchant_id\n",
    "   GROUP BY m.city\n",
    "   HAVING num_countries > 1;\n",
    "\"\"\"\n",
    "\n",
    "# Execute the query using pandasql\n",
    "result = ps.sqldf(query, locals())\n",
    "\n",
    "# Display the result\n",
    "print(result)"
   ]
  },
  {
   "cell_type": "code",
   "execution_count": 5,
   "id": "6fc20b97",
   "metadata": {},
   "outputs": [
    {
     "name": "stdout",
     "output_type": "stream",
     "text": [
      "Empty DataFrame\n",
      "Columns: [reservation_id, reservation_count]\n",
      "Index: []\n"
     ]
    }
   ],
   "source": [
    "# Check if reservation_id values are unique \n",
    "query = \"\"\"\n",
    "    SELECT r.reservation_id,\n",
    "           COUNT(r.reservation_id) as reservation_count\n",
    "    FROM reservations r\n",
    "    JOIN merchants m ON r.merchant_id = m.merchant_id\n",
    "    GROUP BY reservation_id \n",
    "    HAVING reservation_count > 1;\n",
    "\"\"\"\n",
    "\n",
    "# Execute the query using pandasql\n",
    "result = ps.sqldf(query, locals())\n",
    "\n",
    "# Display the result\n",
    "print(result)"
   ]
  },
  {
   "cell_type": "markdown",
   "id": "b10c7d9e",
   "metadata": {},
   "source": [
    "#### Data Analysis"
   ]
  },
  {
   "cell_type": "code",
   "execution_count": 6,
   "id": "5b207953",
   "metadata": {},
   "outputs": [
    {
     "name": "stdout",
     "output_type": "stream",
     "text": [
      "        city country  total_revenue\n",
      "0  Singapore      SG     1365393.20\n",
      "1       Wien      AT      347852.70\n",
      "2     Berlin      DE      338239.80\n",
      "3  Melbourne      AU      331125.56\n",
      "4     London      GB      303714.16\n"
     ]
    }
   ],
   "source": [
    "# Define the SQL query to identify the most important cities using different metrics\n",
    "\n",
    "# Total Revenue in each city\n",
    "query = \"\"\"\n",
    "    SELECT m.city,\n",
    "           r.country,\n",
    "           ROUND(SUM(r.revenue),2) as total_revenue\n",
    "    FROM reservations r\n",
    "    JOIN merchants m ON r.merchant_id = m.merchant_id\n",
    "    GROUP BY m.city, r.country\n",
    "    ORDER BY total_revenue DESC\n",
    "    LIMIT 5; \n",
    "\"\"\"\n",
    "\n",
    "# Execute the query using pandasql\n",
    "result = ps.sqldf(query, locals())\n",
    "\n",
    "# Display the result\n",
    "print(result)\n"
   ]
  },
  {
   "cell_type": "code",
   "execution_count": 7,
   "id": "906e69f0",
   "metadata": {},
   "outputs": [
    {
     "name": "stdout",
     "output_type": "stream",
     "text": [
      "        city country  total_reservations\n",
      "0  Singapore      SG              369658\n",
      "1       Wien      AT              116550\n",
      "2  Melbourne      AU               71245\n",
      "3     Berlin      DE               63102\n",
      "4       Roma      IT               58655\n"
     ]
    }
   ],
   "source": [
    "# Total number of reservations in each city\n",
    "query = \"\"\"\n",
    "    SELECT m.city,\n",
    "           r.country,\n",
    "           COUNT(r.reservation_id) as total_reservations\n",
    "    FROM reservations r\n",
    "    JOIN merchants m ON r.merchant_id = m.merchant_id\n",
    "    GROUP BY m.city, r.country\n",
    "    ORDER BY total_reservations DESC\n",
    "    LIMIT 5; \n",
    "\"\"\"\n",
    "\n",
    "# Execute the query using pandasql\n",
    "result = ps.sqldf(query, locals())\n",
    "\n",
    "# Display the result\n",
    "print(result)"
   ]
  },
  {
   "cell_type": "code",
   "execution_count": 8,
   "id": "0e13c1fe",
   "metadata": {},
   "outputs": [
    {
     "name": "stdout",
     "output_type": "stream",
     "text": [
      "        city country  total_merchants\n",
      "0  Singapore      SG             1311\n",
      "1       Roma      IT              964\n",
      "2     London      GB              760\n",
      "3       Wien      AT              649\n",
      "4     Berlin      DE              632\n"
     ]
    }
   ],
   "source": [
    "# Total number of merchants in each city\n",
    "query = \"\"\"\n",
    "    SELECT m.city,\n",
    "           r.country,\n",
    "           COUNT(DISTINCT r.merchant_id) as total_merchants\n",
    "    FROM reservations r\n",
    "    JOIN merchants m ON r.merchant_id = m.merchant_id\n",
    "    GROUP BY m.city, r.country\n",
    "    ORDER BY total_merchants DESC\n",
    "    LIMIT 5; \n",
    "\"\"\"\n",
    "\n",
    "# Execute the query using pandasql\n",
    "result = ps.sqldf(query, locals())\n",
    "\n",
    "# Display the result\n",
    "print(result)"
   ]
  },
  {
   "cell_type": "code",
   "execution_count": 9,
   "id": "d85db2f4",
   "metadata": {},
   "outputs": [
    {
     "name": "stdout",
     "output_type": "stream",
     "text": [
      "        city country  total_customers\n",
      "0  Singapore      SG           226359\n",
      "1       Wien      AT            79471\n",
      "2  Melbourne      AU            58232\n",
      "3     Berlin      DE            53521\n",
      "4       Roma      IT            50903\n"
     ]
    }
   ],
   "source": [
    "# Total number of customers in each city\n",
    "query = \"\"\"\n",
    "    SELECT m.city, \n",
    "           r.country,\n",
    "           COUNT(DISTINCT r.customer_id) as total_customers\n",
    "    FROM reservations r\n",
    "    JOIN merchants m ON r.merchant_id = m.merchant_id\n",
    "    GROUP BY m.city, r.country\n",
    "    ORDER BY total_customers DESC\n",
    "    LIMIT 5; \n",
    "\"\"\"\n",
    "\n",
    "# Execute the query using pandasql\n",
    "result = ps.sqldf(query, locals())\n",
    "\n",
    "# Display the result\n",
    "print(result)"
   ]
  },
  {
   "cell_type": "code",
   "execution_count": 10,
   "id": "b01bd860",
   "metadata": {},
   "outputs": [],
   "source": [
    "# Export the csv file to be used for data visualizations in Tableau\n",
    "query = \"\"\"\n",
    "    SELECT r.*, m.city, m.cuisine\n",
    "    FROM reservations r\n",
    "    JOIN merchants m ON r.merchant_id = m.merchant_id\n",
    "\"\"\"\n",
    "\n",
    "result = ps.sqldf(query, locals())\n",
    "\n",
    "result.to_csv('joined_result.csv', index=False)\n",
    "\n"
   ]
  }
 ],
 "metadata": {
  "kernelspec": {
   "display_name": "Python 3",
   "language": "python",
   "name": "python3"
  },
  "language_info": {
   "codemirror_mode": {
    "name": "ipython",
    "version": 3
   },
   "file_extension": ".py",
   "mimetype": "text/x-python",
   "name": "python",
   "nbconvert_exporter": "python",
   "pygments_lexer": "ipython3",
   "version": "3.8.8"
  }
 },
 "nbformat": 4,
 "nbformat_minor": 5
}
